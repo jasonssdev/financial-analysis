{
 "cells": [
  {
   "cell_type": "code",
   "execution_count": 1,
   "metadata": {},
   "outputs": [],
   "source": [
    "import os\n",
    "import csv\n",
    "import json\n",
    "import pdfplumber\n",
    "from openai import OpenAI\n",
    "from dotenv import load_dotenv"
   ]
  },
  {
   "cell_type": "code",
   "execution_count": 2,
   "metadata": {},
   "outputs": [
    {
     "data": {
      "text/plain": [
       "True"
      ]
     },
     "execution_count": 2,
     "metadata": {},
     "output_type": "execute_result"
    }
   ],
   "source": [
    "# Load environment variables\n",
    "load_dotenv()"
   ]
  },
  {
   "cell_type": "code",
   "execution_count": 4,
   "metadata": {},
   "outputs": [],
   "source": [
    "OPENAI_API_KEY = os.getenv(\"OPENAI_API_KEY\")\n",
    "client = OpenAI(api_key=OPENAI_API_KEY)"
   ]
  },
  {
   "cell_type": "code",
   "execution_count": 5,
   "metadata": {},
   "outputs": [],
   "source": [
    "# Function to extract text from PDF file\n",
    "def extract_text_from_pdf(pdf_path):\n",
    "    \"\"\"\n",
    "    Extracts text page-by-page from a PDF file using pdfplumber.\n",
    "    Returns a list of strings, each representing the text of a page.\n",
    "    \"\"\"\n",
    "    pages_text = []\n",
    "    with pdfplumber.open(pdf_path) as pdf_file:\n",
    "        for page in pdf_file.pages:\n",
    "            text = page.extract_text()\n",
    "            if text:\n",
    "                pages_text.append(text)\n",
    "    return pages_text"
   ]
  },
  {
   "cell_type": "code",
   "execution_count": 6,
   "metadata": {},
   "outputs": [
    {
     "name": "stdout",
     "output_type": "stream",
     "text": [
      "['JASON ROBINSON SEPULVEDA SALAZAR\\njasonsepulvedas@gmail.com\\nPANAMA PROVINCIA ABR/30/22\\nRUC 47101-0002-306017 DV 99\\nRESUMEN DE CUENTA BANCARIA\\nDébitos Créditos Saldo Saldo Saldo\\nNúmero de Cuenta Total Monto Total Monto Promedio Anterior a la Fecha\\n114039365 12 5365.48 15 5512.72 3095.75 5520.40 5667.64\\nDETALLE DE CUENTA\\n114039365\\nFecha N° de Referencia Concepto Débito Crédito Saldo\\nSaldo Anterior 5,520.40\\nABR/01 000038292 PAGO 402912******5075 2,747.03 2773.37\\nABR/01 901404751 ACH BCOGENERAL Ixchel Anais de 110.00 2663.37\\nABR/02 951460970 Pago DIGICEL CONTRATO 63067761 22.44 2640.93\\nABR/02 951460976 Pago PANAPASS RECARGA 918587 30.00 2610.93\\nABR/04 007430794 ACH CRE LAURA FABBIANA L 849.15 3460.08\\nABR/04 000080804 PAGO 402912******5075 1,718.52 1741.56\\nABR/05 007458632 ACH CRE LAURA FABBIANA L 243.05 1984.61\\nABR/06 007465780 ACH CRE LAURA FABBIANA L 25.00 2009.61\\nABR/06 007474090 ACH CRE LAURA FABBIANA L 38.61 2048.22\\nABR/06 040700000 LIBERTY TECHNOLOGIES R PANAM 45.00 2003.22\\nABR/06 901405033 ACH BCOGENERAL MCLA Corp SA 75.00 1928.22\\nABR/07 007476796 ACH CRE LAURA FABBIANA L 37.05 1965.27\\nABR/10 001800757 TEF DE:SERGIO TRUJILLO VIEDA 8.00 1973.27\\n1 de 2', 'JASON ROBINSON SEPULVEDA SALAZAR\\njasonsepulvedas@gmail.com\\nPANAMA PROVINCIA ABR/30/22\\nDETALLE DE CUENTA\\n114039365\\nFecha N° de Referencia Concepto Débito Crédito Saldo\\nSaldo Anterior 5,520.40\\nABR/10 001800816 TEF DE:BRAIAN YAMIL DAGHERO WI 16.00 1989.27\\nABR/11 007410418 ACH CRE LAURA FABBIANA L 262.94 2252.21\\nABR/12 001805913 TEF A : 104306337 532.00 1720.21\\nABR/12 041200221 PROTECCION ROBO 41432705260087 1.50 1718.71\\nABR/14 041500000 NETFLIX.COM 866-5 13.49 1705.22\\nABR/18 007479507 ACH CRE LAURA FABBIANA L 100.00 1805.22\\nABR/18 007489576 ACH CRE LAURA FABBIANA L 32.00 1837.22\\nABR/18 901406091 ACH BCOGENERAL Laura Loisi 28.50 1808.72\\nABR/21 007431553 ACH CRE LAURA FABBIANA L 177.89 1986.61\\nABR/22 003436610 ACH CRE HILTI REGIONAL S 3,654.67 5641.28\\nABR/25 001406300 TEF DE:MARIA ANTONIETA ZARRELL 42.00 5683.28\\nABR/25 901409928 ACH BANISTMO Hotey Global Corp 42.00 5641.28\\nABR/27 007478989 ACH CRE LAURA FABBIANA L 26.00 5667.28\\nABR/30 043042537 INTERESES .36 5667.64\\nSaldo al Corte 5365.48 11033.12 5667.64\\nNOTIFICACIONES\\n2 de 2']\n",
      "<class 'list'>\n",
      "2\n"
     ]
    }
   ],
   "source": [
    "# test function\n",
    "\n",
    "pages_text = extract_text_from_pdf(\"../data/raw/account/202204.pdf\")\n",
    "print(pages_text)\n",
    "print(type(pages_text))\n",
    "print(len(pages_text))"
   ]
  },
  {
   "cell_type": "code",
   "execution_count": 16,
   "metadata": {},
   "outputs": [],
   "source": [
    "def call_openai_api_for_account_data_extraction(text):\n",
    "    \"\"\"\n",
    "    Sends 'text' to the OpenAI model with instructions to extract\n",
    "    banking transactions from credit card statement in a JSON format.\n",
    "\n",
    "    Returns a list of dictionaries with the following keys:\n",
    "        - date\n",
    "        - reference\n",
    "        - Description\n",
    "        - debit (float)\n",
    "        - credit (float)\n",
    "        - balance (float)\n",
    "    \"\"\"\n",
    "    # Define the system and user prompts\n",
    "    system_prompt = (\n",
    "        \"\"\"You are an assistant that extracts banking transactions from text.\n",
    "        Each transaction appears in a single line with these columns (in order):\n",
    "        1. DATE\n",
    "        2. REFERENCE\n",
    "        3. DESCRIPTION\n",
    "        4. DEBIT (float, can be 0.00 if not a debit)\n",
    "        5. CREDIT (float, can be 0.00 if not a credit)\n",
    "        6. BALANCE (float)\n",
    "\n",
    "        Important details:\n",
    "        - If the DEBIT column has a float greater than 0, the CREDIT column is 0.00 for that transaction.\n",
    "        - If the CREDIT column has a float greater than 0, the DEBIT column is 0.00 for that transaction.\n",
    "        - Negative values for debit or credit do not appear in the statement. Instead, 0.00 is used when the column does not apply.\n",
    "        - The BALANCE column is always present at the end of the line.\n",
    "\n",
    "        Example transaction lines:\n",
    "        ABR/10 001800816 TEF DE:BRAIAN YAMIL DAGHERO WI  16.00 1989.27\n",
    "        (meaning: date=ABR/10, reference=001800816, description=\"TEF DE:BRAIAN YAMIL DAGHERO WI\", debit=0.00, credit=16.00, balance=1989.27)\n",
    "\n",
    "        ABR/11 007410418 ACH CRE LAURA FABBIANA L   262.94 2252.21\n",
    "        (meaning: date=ABR/11, reference=007410418, description=\"ACH CRE LAURA FABBIANA L\", debit=0.00, credit=262.94, balance=2252.21)\n",
    "\n",
    "        Instructions:\n",
    "        1. Identify all lines that represent transactions with these columns.\n",
    "        2. Return an array of JSON objects with the exact fields:\n",
    "        - \"date\"\n",
    "        - \"reference\"\n",
    "        - \"description\"\n",
    "        - \"debit\" (float)\n",
    "        - \"credit\" (float)\n",
    "        - \"balance\" (float)\n",
    "        3. Return only the JSON, with no extra text or explanation.\n",
    "        4. If there is ambiguity in a row, do your best to interpret it consistently with the column order: date, reference, description, debit, credit, balance. \"\"\"\n",
    "    )\n",
    "\n",
    "    user_prompt = f\"PDF text:\\n\\n{text}\\n\\nExtract the transactions in JSON.\"\n",
    "\n",
    "    try:\n",
    "        # Call the OpenAI API\n",
    "        completion = client.chat.completions.create(\n",
    "            model=\"gpt-4o-mini\",\n",
    "            messages=[\n",
    "                {\"role\": \"system\", \"content\": system_prompt},\n",
    "                {\"role\": \"user\", \"content\": user_prompt},\n",
    "            ],\n",
    "            temperature=0.0,\n",
    "        )\n",
    "\n",
    "        # Extract the data from the API response\n",
    "        content = completion.choices[0].message.content\n",
    "        transactions = json.loads(content)\n",
    "\n",
    "        # return a list\n",
    "        if isinstance(transactions, dict):\n",
    "            transactions = [transactions]\n",
    "        return transactions\n",
    "    \n",
    "    except Exception as e:\n",
    "        print(\"Error when processing text with OpenAI:\", e)\n",
    "        return []"
   ]
  },
  {
   "cell_type": "code",
   "execution_count": 17,
   "metadata": {},
   "outputs": [
    {
     "name": "stdout",
     "output_type": "stream",
     "text": [
      "[{'date': 'ABR/10', 'reference': '001800816', 'description': 'TEF DE:BRAIAN YAMIL DAGHERO WI', 'debit': 16.0, 'credit': 0.0, 'balance': 1989.27}, {'date': 'ABR/11', 'reference': '007410418', 'description': 'ACH CRE LAURA FABBIANA L', 'debit': 0.0, 'credit': 262.94, 'balance': 2252.21}, {'date': 'ABR/12', 'reference': '001805913', 'description': 'TEF A : 104306337', 'debit': 532.0, 'credit': 0.0, 'balance': 1720.21}, {'date': 'ABR/12', 'reference': '041200221', 'description': 'PROTECCION ROBO 41432705260087', 'debit': 1.5, 'credit': 0.0, 'balance': 1718.71}, {'date': 'ABR/14', 'reference': '041500000', 'description': 'NETFLIX.COM 866-5', 'debit': 13.49, 'credit': 0.0, 'balance': 1705.22}, {'date': 'ABR/18', 'reference': '007479507', 'description': 'ACH CRE LAURA FABBIANA L', 'debit': 0.0, 'credit': 100.0, 'balance': 1805.22}, {'date': 'ABR/18', 'reference': '007489576', 'description': 'ACH CRE LAURA FABBIANA L', 'debit': 0.0, 'credit': 32.0, 'balance': 1837.22}, {'date': 'ABR/18', 'reference': '901406091', 'description': 'ACH BCOGENERAL Laura Loisi', 'debit': 28.5, 'credit': 0.0, 'balance': 1808.72}, {'date': 'ABR/21', 'reference': '007431553', 'description': 'ACH CRE LAURA FABBIANA L', 'debit': 0.0, 'credit': 177.89, 'balance': 1986.61}, {'date': 'ABR/22', 'reference': '003436610', 'description': 'ACH CRE HILTI REGIONAL S', 'debit': 3654.67, 'credit': 0.0, 'balance': 5641.28}, {'date': 'ABR/25', 'reference': '001406300', 'description': 'TEF DE:MARIA ANTONIETA ZARRELL', 'debit': 42.0, 'credit': 0.0, 'balance': 5683.28}, {'date': 'ABR/25', 'reference': '901409928', 'description': 'ACH BANISTMO Hotey Global Corp', 'debit': 42.0, 'credit': 0.0, 'balance': 5641.28}, {'date': 'ABR/27', 'reference': '007478989', 'description': 'ACH CRE LAURA FABBIANA L', 'debit': 0.0, 'credit': 26.0, 'balance': 5667.28}, {'date': 'ABR/30', 'reference': '043042537', 'description': 'INTERESES', 'debit': 0.36, 'credit': 0.0, 'balance': 5667.64}]\n",
      "<class 'list'>\n",
      "14\n"
     ]
    }
   ],
   "source": [
    "response = call_openai_api_for_account_data_extraction(pages_text[1])\n",
    "print(response)\n",
    "print(type(response))\n",
    "print(len(response))"
   ]
  },
  {
   "cell_type": "code",
   "execution_count": null,
   "metadata": {},
   "outputs": [],
   "source": []
  }
 ],
 "metadata": {
  "kernelspec": {
   "display_name": "ml-py3.12",
   "language": "python",
   "name": "python3"
  },
  "language_info": {
   "codemirror_mode": {
    "name": "ipython",
    "version": 3
   },
   "file_extension": ".py",
   "mimetype": "text/x-python",
   "name": "python",
   "nbconvert_exporter": "python",
   "pygments_lexer": "ipython3",
   "version": "3.12.9"
  }
 },
 "nbformat": 4,
 "nbformat_minor": 2
}
