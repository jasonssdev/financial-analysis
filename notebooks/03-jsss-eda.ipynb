{
 "cells": [
  {
   "cell_type": "code",
   "execution_count": 1,
   "metadata": {},
   "outputs": [],
   "source": [
    "import pandas as pd\n",
    "import numpy as np\n",
    "import matplotlib.pyplot as plt\n",
    "import seaborn as sns\n",
    "import openpyxl"
   ]
  },
  {
   "cell_type": "code",
   "execution_count": 2,
   "metadata": {},
   "outputs": [
    {
     "data": {
      "text/html": [
       "<div>\n",
       "<style scoped>\n",
       "    .dataframe tbody tr th:only-of-type {\n",
       "        vertical-align: middle;\n",
       "    }\n",
       "\n",
       "    .dataframe tbody tr th {\n",
       "        vertical-align: top;\n",
       "    }\n",
       "\n",
       "    .dataframe thead th {\n",
       "        text-align: right;\n",
       "    }\n",
       "</style>\n",
       "<table border=\"1\" class=\"dataframe\">\n",
       "  <thead>\n",
       "    <tr style=\"text-align: right;\">\n",
       "      <th></th>\n",
       "      <th>date</th>\n",
       "      <th>reference</th>\n",
       "      <th>description</th>\n",
       "      <th>amount</th>\n",
       "      <th>file</th>\n",
       "      <th>page</th>\n",
       "    </tr>\n",
       "  </thead>\n",
       "  <tbody>\n",
       "    <tr>\n",
       "      <th>2086</th>\n",
       "      <td>SEP/11</td>\n",
       "      <td>091268654621</td>\n",
       "      <td>746 DL*UBER RIDES</td>\n",
       "      <td>4.82</td>\n",
       "      <td>202309.pdf</td>\n",
       "      <td>4</td>\n",
       "    </tr>\n",
       "    <tr>\n",
       "      <th>2087</th>\n",
       "      <td>SEP/13</td>\n",
       "      <td>091499000605</td>\n",
       "      <td>988 UBER *TRIP HELP.UBER.C</td>\n",
       "      <td>4.26</td>\n",
       "      <td>202309.pdf</td>\n",
       "      <td>4</td>\n",
       "    </tr>\n",
       "    <tr>\n",
       "      <th>2088</th>\n",
       "      <td>SEP/13</td>\n",
       "      <td>091499000605</td>\n",
       "      <td>990 NETFLIX.COM 866-579-717</td>\n",
       "      <td>15.05</td>\n",
       "      <td>202309.pdf</td>\n",
       "      <td>4</td>\n",
       "    </tr>\n",
       "    <tr>\n",
       "      <th>2089</th>\n",
       "      <td>SEP/14</td>\n",
       "      <td>091468695704</td>\n",
       "      <td>024 CLAVE PAGOS GAS PAGO FACTURA 6523627</td>\n",
       "      <td>77.62</td>\n",
       "      <td>202309.pdf</td>\n",
       "      <td>4</td>\n",
       "    </tr>\n",
       "    <tr>\n",
       "      <th>2090</th>\n",
       "      <td>SEP/15</td>\n",
       "      <td>091514400999T</td>\n",
       "      <td>078 IMPUESTO F.E.C.I.</td>\n",
       "      <td>6.47</td>\n",
       "      <td>202309.pdf</td>\n",
       "      <td>4</td>\n",
       "    </tr>\n",
       "  </tbody>\n",
       "</table>\n",
       "</div>"
      ],
      "text/plain": [
       "        date      reference                               description  amount  \\\n",
       "2086  SEP/11   091268654621                         746 DL*UBER RIDES    4.82   \n",
       "2087  SEP/13   091499000605                988 UBER *TRIP HELP.UBER.C    4.26   \n",
       "2088  SEP/13   091499000605               990 NETFLIX.COM 866-579-717   15.05   \n",
       "2089  SEP/14   091468695704  024 CLAVE PAGOS GAS PAGO FACTURA 6523627   77.62   \n",
       "2090  SEP/15  091514400999T                     078 IMPUESTO F.E.C.I.    6.47   \n",
       "\n",
       "            file  page  \n",
       "2086  202309.pdf     4  \n",
       "2087  202309.pdf     4  \n",
       "2088  202309.pdf     4  \n",
       "2089  202309.pdf     4  \n",
       "2090  202309.pdf     4  "
      ]
     },
     "execution_count": 2,
     "metadata": {},
     "output_type": "execute_result"
    }
   ],
   "source": [
    "df_card_data = pd.read_csv(\"../data/preprocessed/extracted_transactions.csv\")\n",
    "df_card_data.tail()"
   ]
  },
  {
   "cell_type": "code",
   "execution_count": 3,
   "metadata": {},
   "outputs": [
    {
     "data": {
      "text/plain": [
       "(2091, 6)"
      ]
     },
     "execution_count": 3,
     "metadata": {},
     "output_type": "execute_result"
    }
   ],
   "source": [
    "df_card_data.shape"
   ]
  },
  {
   "cell_type": "code",
   "execution_count": 4,
   "metadata": {},
   "outputs": [
    {
     "data": {
      "text/plain": [
       "40"
      ]
     },
     "execution_count": 4,
     "metadata": {},
     "output_type": "execute_result"
    }
   ],
   "source": [
    "# check how many unique files were read - there were 40 files\n",
    "df_card_data['file'].nunique()"
   ]
  },
  {
   "cell_type": "code",
   "execution_count": 5,
   "metadata": {},
   "outputs": [
    {
     "name": "stdout",
     "output_type": "stream",
     "text": [
      "<class 'pandas.core.frame.DataFrame'>\n",
      "RangeIndex: 2091 entries, 0 to 2090\n",
      "Data columns (total 6 columns):\n",
      " #   Column       Non-Null Count  Dtype  \n",
      "---  ------       --------------  -----  \n",
      " 0   date         2091 non-null   object \n",
      " 1   reference    2091 non-null   object \n",
      " 2   description  2091 non-null   object \n",
      " 3   amount       2091 non-null   float64\n",
      " 4   file         2091 non-null   object \n",
      " 5   page         2091 non-null   int64  \n",
      "dtypes: float64(1), int64(1), object(4)\n",
      "memory usage: 98.1+ KB\n"
     ]
    }
   ],
   "source": [
    "df_card_data.info()"
   ]
  },
  {
   "cell_type": "code",
   "execution_count": 8,
   "metadata": {},
   "outputs": [],
   "source": [
    "df_card_data[\"year\"]= df_card_data[\"file\"].str[0:4]\n",
    "df_card_data[\"month\"]= df_card_data[\"file\"].str[4:6]\n"
   ]
  },
  {
   "cell_type": "code",
   "execution_count": 9,
   "metadata": {},
   "outputs": [
    {
     "data": {
      "text/html": [
       "<div>\n",
       "<style scoped>\n",
       "    .dataframe tbody tr th:only-of-type {\n",
       "        vertical-align: middle;\n",
       "    }\n",
       "\n",
       "    .dataframe tbody tr th {\n",
       "        vertical-align: top;\n",
       "    }\n",
       "\n",
       "    .dataframe thead th {\n",
       "        text-align: right;\n",
       "    }\n",
       "</style>\n",
       "<table border=\"1\" class=\"dataframe\">\n",
       "  <thead>\n",
       "    <tr style=\"text-align: right;\">\n",
       "      <th></th>\n",
       "      <th>date</th>\n",
       "      <th>reference</th>\n",
       "      <th>description</th>\n",
       "      <th>amount</th>\n",
       "      <th>file</th>\n",
       "      <th>page</th>\n",
       "      <th>year</th>\n",
       "      <th>month</th>\n",
       "    </tr>\n",
       "  </thead>\n",
       "  <tbody>\n",
       "    <tr>\n",
       "      <th>0</th>\n",
       "      <td>MAR/14</td>\n",
       "      <td>031699000605</td>\n",
       "      <td>UBER *TRIP HELP.UBER.C</td>\n",
       "      <td>3.46</td>\n",
       "      <td>202304.pdf</td>\n",
       "      <td>2</td>\n",
       "      <td>2023</td>\n",
       "      <td>04</td>\n",
       "    </tr>\n",
       "    <tr>\n",
       "      <th>1</th>\n",
       "      <td>MAR/14</td>\n",
       "      <td>031679000605</td>\n",
       "      <td>PUERTO VARAS RESTAURANT BELLA VISTA</td>\n",
       "      <td>26.44</td>\n",
       "      <td>202304.pdf</td>\n",
       "      <td>2</td>\n",
       "      <td>2023</td>\n",
       "      <td>04</td>\n",
       "    </tr>\n",
       "    <tr>\n",
       "      <th>2</th>\n",
       "      <td>MAR/15</td>\n",
       "      <td>031668674522</td>\n",
       "      <td>REY BELLA VISTA 1091 (V/M/C)</td>\n",
       "      <td>19.95</td>\n",
       "      <td>202304.pdf</td>\n",
       "      <td>2</td>\n",
       "      <td>2023</td>\n",
       "      <td>04</td>\n",
       "    </tr>\n",
       "    <tr>\n",
       "      <th>3</th>\n",
       "      <td>MAR/16</td>\n",
       "      <td>031622173910</td>\n",
       "      <td>PLAN SALDOS DEU 4641260022403213</td>\n",
       "      <td>21.97</td>\n",
       "      <td>202304.pdf</td>\n",
       "      <td>2</td>\n",
       "      <td>2023</td>\n",
       "      <td>04</td>\n",
       "    </tr>\n",
       "    <tr>\n",
       "      <th>4</th>\n",
       "      <td>MAR/16</td>\n",
       "      <td>031622173911</td>\n",
       "      <td>PROTECCION ROBO 4641260022403213</td>\n",
       "      <td>5.25</td>\n",
       "      <td>202304.pdf</td>\n",
       "      <td>2</td>\n",
       "      <td>2023</td>\n",
       "      <td>04</td>\n",
       "    </tr>\n",
       "  </tbody>\n",
       "</table>\n",
       "</div>"
      ],
      "text/plain": [
       "     date     reference                          description  amount  \\\n",
       "0  MAR/14  031699000605               UBER *TRIP HELP.UBER.C    3.46   \n",
       "1  MAR/14  031679000605  PUERTO VARAS RESTAURANT BELLA VISTA   26.44   \n",
       "2  MAR/15  031668674522         REY BELLA VISTA 1091 (V/M/C)   19.95   \n",
       "3  MAR/16  031622173910     PLAN SALDOS DEU 4641260022403213   21.97   \n",
       "4  MAR/16  031622173911     PROTECCION ROBO 4641260022403213    5.25   \n",
       "\n",
       "         file  page  year month  \n",
       "0  202304.pdf     2  2023    04  \n",
       "1  202304.pdf     2  2023    04  \n",
       "2  202304.pdf     2  2023    04  \n",
       "3  202304.pdf     2  2023    04  \n",
       "4  202304.pdf     2  2023    04  "
      ]
     },
     "execution_count": 9,
     "metadata": {},
     "output_type": "execute_result"
    }
   ],
   "source": [
    "df_card_data.head()"
   ]
  },
  {
   "cell_type": "code",
   "execution_count": 10,
   "metadata": {},
   "outputs": [
    {
     "data": {
      "text/html": [
       "<div>\n",
       "<style scoped>\n",
       "    .dataframe tbody tr th:only-of-type {\n",
       "        vertical-align: middle;\n",
       "    }\n",
       "\n",
       "    .dataframe tbody tr th {\n",
       "        vertical-align: top;\n",
       "    }\n",
       "\n",
       "    .dataframe thead th {\n",
       "        text-align: right;\n",
       "    }\n",
       "</style>\n",
       "<table border=\"1\" class=\"dataframe\">\n",
       "  <thead>\n",
       "    <tr style=\"text-align: right;\">\n",
       "      <th></th>\n",
       "      <th>date</th>\n",
       "      <th>reference</th>\n",
       "      <th>description</th>\n",
       "      <th>amount</th>\n",
       "      <th>file</th>\n",
       "      <th>page</th>\n",
       "      <th>year</th>\n",
       "      <th>month</th>\n",
       "      <th>year-month</th>\n",
       "    </tr>\n",
       "  </thead>\n",
       "  <tbody>\n",
       "    <tr>\n",
       "      <th>0</th>\n",
       "      <td>MAR/14</td>\n",
       "      <td>031699000605</td>\n",
       "      <td>UBER *TRIP HELP.UBER.C</td>\n",
       "      <td>3.46</td>\n",
       "      <td>202304.pdf</td>\n",
       "      <td>2</td>\n",
       "      <td>2023</td>\n",
       "      <td>04</td>\n",
       "      <td>2023-04</td>\n",
       "    </tr>\n",
       "    <tr>\n",
       "      <th>1</th>\n",
       "      <td>MAR/14</td>\n",
       "      <td>031679000605</td>\n",
       "      <td>PUERTO VARAS RESTAURANT BELLA VISTA</td>\n",
       "      <td>26.44</td>\n",
       "      <td>202304.pdf</td>\n",
       "      <td>2</td>\n",
       "      <td>2023</td>\n",
       "      <td>04</td>\n",
       "      <td>2023-04</td>\n",
       "    </tr>\n",
       "    <tr>\n",
       "      <th>2</th>\n",
       "      <td>MAR/15</td>\n",
       "      <td>031668674522</td>\n",
       "      <td>REY BELLA VISTA 1091 (V/M/C)</td>\n",
       "      <td>19.95</td>\n",
       "      <td>202304.pdf</td>\n",
       "      <td>2</td>\n",
       "      <td>2023</td>\n",
       "      <td>04</td>\n",
       "      <td>2023-04</td>\n",
       "    </tr>\n",
       "    <tr>\n",
       "      <th>3</th>\n",
       "      <td>MAR/16</td>\n",
       "      <td>031622173910</td>\n",
       "      <td>PLAN SALDOS DEU 4641260022403213</td>\n",
       "      <td>21.97</td>\n",
       "      <td>202304.pdf</td>\n",
       "      <td>2</td>\n",
       "      <td>2023</td>\n",
       "      <td>04</td>\n",
       "      <td>2023-04</td>\n",
       "    </tr>\n",
       "    <tr>\n",
       "      <th>4</th>\n",
       "      <td>MAR/16</td>\n",
       "      <td>031622173911</td>\n",
       "      <td>PROTECCION ROBO 4641260022403213</td>\n",
       "      <td>5.25</td>\n",
       "      <td>202304.pdf</td>\n",
       "      <td>2</td>\n",
       "      <td>2023</td>\n",
       "      <td>04</td>\n",
       "      <td>2023-04</td>\n",
       "    </tr>\n",
       "  </tbody>\n",
       "</table>\n",
       "</div>"
      ],
      "text/plain": [
       "     date     reference                          description  amount  \\\n",
       "0  MAR/14  031699000605               UBER *TRIP HELP.UBER.C    3.46   \n",
       "1  MAR/14  031679000605  PUERTO VARAS RESTAURANT BELLA VISTA   26.44   \n",
       "2  MAR/15  031668674522         REY BELLA VISTA 1091 (V/M/C)   19.95   \n",
       "3  MAR/16  031622173910     PLAN SALDOS DEU 4641260022403213   21.97   \n",
       "4  MAR/16  031622173911     PROTECCION ROBO 4641260022403213    5.25   \n",
       "\n",
       "         file  page  year month year-month  \n",
       "0  202304.pdf     2  2023    04    2023-04  \n",
       "1  202304.pdf     2  2023    04    2023-04  \n",
       "2  202304.pdf     2  2023    04    2023-04  \n",
       "3  202304.pdf     2  2023    04    2023-04  \n",
       "4  202304.pdf     2  2023    04    2023-04  "
      ]
     },
     "execution_count": 10,
     "metadata": {},
     "output_type": "execute_result"
    }
   ],
   "source": [
    "df_card_data[\"year-month\"] = df_card_data[\"year\"] + \"-\" + df_card_data[\"month\"]\n",
    "df_card_data.head()"
   ]
  },
  {
   "cell_type": "code",
   "execution_count": 11,
   "metadata": {},
   "outputs": [
    {
     "data": {
      "text/html": [
       "<div>\n",
       "<style scoped>\n",
       "    .dataframe tbody tr th:only-of-type {\n",
       "        vertical-align: middle;\n",
       "    }\n",
       "\n",
       "    .dataframe tbody tr th {\n",
       "        vertical-align: top;\n",
       "    }\n",
       "\n",
       "    .dataframe thead th {\n",
       "        text-align: right;\n",
       "    }\n",
       "</style>\n",
       "<table border=\"1\" class=\"dataframe\">\n",
       "  <thead>\n",
       "    <tr style=\"text-align: right;\">\n",
       "      <th></th>\n",
       "      <th>date</th>\n",
       "      <th>reference</th>\n",
       "      <th>description</th>\n",
       "      <th>amount</th>\n",
       "      <th>file</th>\n",
       "      <th>page</th>\n",
       "      <th>year</th>\n",
       "      <th>month</th>\n",
       "      <th>year-month</th>\n",
       "    </tr>\n",
       "  </thead>\n",
       "  <tbody>\n",
       "    <tr>\n",
       "      <th>0</th>\n",
       "      <td>MAR/14</td>\n",
       "      <td>031699000605</td>\n",
       "      <td>UBER *TRIP HELP.UBER.C</td>\n",
       "      <td>3.46</td>\n",
       "      <td>202304.pdf</td>\n",
       "      <td>2</td>\n",
       "      <td>2023</td>\n",
       "      <td>04</td>\n",
       "      <td>2023-04</td>\n",
       "    </tr>\n",
       "    <tr>\n",
       "      <th>1</th>\n",
       "      <td>MAR/14</td>\n",
       "      <td>031679000605</td>\n",
       "      <td>PUERTO VARAS RESTAURANT BELLA VISTA</td>\n",
       "      <td>26.44</td>\n",
       "      <td>202304.pdf</td>\n",
       "      <td>2</td>\n",
       "      <td>2023</td>\n",
       "      <td>04</td>\n",
       "      <td>2023-04</td>\n",
       "    </tr>\n",
       "    <tr>\n",
       "      <th>2</th>\n",
       "      <td>MAR/15</td>\n",
       "      <td>031668674522</td>\n",
       "      <td>REY BELLA VISTA 1091 (V/M/C)</td>\n",
       "      <td>19.95</td>\n",
       "      <td>202304.pdf</td>\n",
       "      <td>2</td>\n",
       "      <td>2023</td>\n",
       "      <td>04</td>\n",
       "      <td>2023-04</td>\n",
       "    </tr>\n",
       "    <tr>\n",
       "      <th>3</th>\n",
       "      <td>MAR/16</td>\n",
       "      <td>031622173910</td>\n",
       "      <td>PLAN SALDOS DEU 4641260022403213</td>\n",
       "      <td>21.97</td>\n",
       "      <td>202304.pdf</td>\n",
       "      <td>2</td>\n",
       "      <td>2023</td>\n",
       "      <td>04</td>\n",
       "      <td>2023-04</td>\n",
       "    </tr>\n",
       "    <tr>\n",
       "      <th>4</th>\n",
       "      <td>MAR/16</td>\n",
       "      <td>031622173911</td>\n",
       "      <td>PROTECCION ROBO 4641260022403213</td>\n",
       "      <td>5.25</td>\n",
       "      <td>202304.pdf</td>\n",
       "      <td>2</td>\n",
       "      <td>2023</td>\n",
       "      <td>04</td>\n",
       "      <td>2023-04</td>\n",
       "    </tr>\n",
       "  </tbody>\n",
       "</table>\n",
       "</div>"
      ],
      "text/plain": [
       "     date     reference                          description  amount  \\\n",
       "0  MAR/14  031699000605               UBER *TRIP HELP.UBER.C    3.46   \n",
       "1  MAR/14  031679000605  PUERTO VARAS RESTAURANT BELLA VISTA   26.44   \n",
       "2  MAR/15  031668674522         REY BELLA VISTA 1091 (V/M/C)   19.95   \n",
       "3  MAR/16  031622173910     PLAN SALDOS DEU 4641260022403213   21.97   \n",
       "4  MAR/16  031622173911     PROTECCION ROBO 4641260022403213    5.25   \n",
       "\n",
       "         file  page  year month year-month  \n",
       "0  202304.pdf     2  2023    04    2023-04  \n",
       "1  202304.pdf     2  2023    04    2023-04  \n",
       "2  202304.pdf     2  2023    04    2023-04  \n",
       "3  202304.pdf     2  2023    04    2023-04  \n",
       "4  202304.pdf     2  2023    04    2023-04  "
      ]
     },
     "execution_count": 11,
     "metadata": {},
     "output_type": "execute_result"
    }
   ],
   "source": [
    "df_card_data.head()"
   ]
  },
  {
   "cell_type": "code",
   "execution_count": 12,
   "metadata": {},
   "outputs": [
    {
     "data": {
      "text/plain": [
       "array(['UBER *TRIP HELP.UBER.C', 'PUERTO VARAS RESTAURANT BELLA VISTA',\n",
       "       'REY BELLA VISTA 1091 (V/M/C)', ..., '990 NETFLIX.COM 866-579-717',\n",
       "       '024 CLAVE PAGOS GAS PAGO FACTURA 6523627',\n",
       "       '078 IMPUESTO F.E.C.I.'], shape=(1449,), dtype=object)"
      ]
     },
     "execution_count": 12,
     "metadata": {},
     "output_type": "execute_result"
    }
   ],
   "source": [
    "df_card_data[\"description\"].unique()"
   ]
  },
  {
   "cell_type": "code",
   "execution_count": 13,
   "metadata": {},
   "outputs": [
    {
     "data": {
      "text/plain": [
       "1449"
      ]
     },
     "execution_count": 13,
     "metadata": {},
     "output_type": "execute_result"
    }
   ],
   "source": [
    "df_card_data[\"description\"].nunique()"
   ]
  },
  {
   "cell_type": "code",
   "execution_count": 14,
   "metadata": {},
   "outputs": [],
   "source": [
    "df_card_data.to_excel(\"../data/preprocessed/extracted_transactions.xlsx\", index=False)"
   ]
  },
  {
   "cell_type": "code",
   "execution_count": null,
   "metadata": {},
   "outputs": [],
   "source": []
  }
 ],
 "metadata": {
  "kernelspec": {
   "display_name": "ml-py3.12",
   "language": "python",
   "name": "python3"
  },
  "language_info": {
   "codemirror_mode": {
    "name": "ipython",
    "version": 3
   },
   "file_extension": ".py",
   "mimetype": "text/x-python",
   "name": "python",
   "nbconvert_exporter": "python",
   "pygments_lexer": "ipython3",
   "version": "3.12.9"
  }
 },
 "nbformat": 4,
 "nbformat_minor": 2
}
