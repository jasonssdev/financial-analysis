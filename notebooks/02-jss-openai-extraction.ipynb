{
 "cells": [
  {
   "cell_type": "code",
   "execution_count": 1,
   "metadata": {},
   "outputs": [],
   "source": [
    "import os\n",
    "import csv\n",
    "import json\n",
    "import pdfplumber\n",
    "from openai import OpenAI\n",
    "from dotenv import load_dotenv"
   ]
  },
  {
   "cell_type": "code",
   "execution_count": 2,
   "metadata": {},
   "outputs": [
    {
     "data": {
      "text/plain": [
       "True"
      ]
     },
     "execution_count": 2,
     "metadata": {},
     "output_type": "execute_result"
    }
   ],
   "source": [
    "# Load environment variables\n",
    "load_dotenv()"
   ]
  },
  {
   "cell_type": "code",
   "execution_count": 3,
   "metadata": {},
   "outputs": [],
   "source": [
    "OPENAI_API_KEY = os.getenv(\"OPENAI_API_KEY\")"
   ]
  },
  {
   "cell_type": "code",
   "execution_count": 4,
   "metadata": {},
   "outputs": [
    {
     "data": {
      "text/plain": [
       "True"
      ]
     },
     "execution_count": 4,
     "metadata": {},
     "output_type": "execute_result"
    }
   ],
   "source": [
    "data_path = os.path.exists(\"../data/raw\")\n",
    "data_path"
   ]
  },
  {
   "cell_type": "code",
   "execution_count": 5,
   "metadata": {},
   "outputs": [
    {
     "name": "stdout",
     "output_type": "stream",
     "text": [
      "The Zen of Python is a collection of guiding principles for writing computer programs in the Python language. You can access it by running the following command in a Python interpreter:\n",
      "\n",
      "```python\n",
      "import this\n",
      "```\n",
      "\n",
      "Here are the principles from the Zen of Python:\n",
      "\n",
      "```\n",
      "Beautiful is better than ugly.\n",
      "Explicit is better than implicit.\n",
      "Simple is better than complex.\n",
      "Complex is better than complicated.\n",
      "Flat is better than nested.\n",
      "Sparse is better than dense.\n",
      "Readability counts.\n",
      "Special cases aren't special enough to break the rules.\n",
      "Although practicality beats purity.\n",
      "Errors should never pass silently.\n",
      "Unless explicitly silenced.\n",
      "In the face of ambiguity, refuse the temptation to guess.\n",
      "There should be one-- and preferably only one --obvious way to do it.\n",
      "Although that way may not be obvious at first unless you're Dutch.\n",
      "Now is better than never.\n",
      "Although never is often better than right now.\n",
      "If the implementation is hard to explain, it's a bad idea.\n",
      "If the implementation is easy to explain, it may be a good idea.\n",
      "Namespaces are one honking great idea -- let's do more of those!\n",
      "```\n",
      "\n",
      "These aphorisms capture the philosophy of Python and guide developers in writing clean, maintainable code.\n"
     ]
    }
   ],
   "source": [
    "# OpenAI API Test\n",
    "\n",
    "client = OpenAI(api_key=OPENAI_API_KEY)\n",
    "system_prompt = \"You are an AI Asistant expert in python\"\n",
    "user_prompt = \"Give me the pythin zen\"\n",
    "\n",
    "completion = client.chat.completions.create(\n",
    "    model=\"gpt-4o-mini\",\n",
    "    messages=[\n",
    "        {\"role\": \"system\", \"content\": system_prompt},\n",
    "        {\"role\": \"user\",\"content\": user_prompt}\n",
    "    ],\n",
    "    temperature=0.0\n",
    ")\n",
    "\n",
    "print(completion.choices[0].message.content)"
   ]
  },
  {
   "cell_type": "code",
   "execution_count": 6,
   "metadata": {},
   "outputs": [],
   "source": [
    "# Function to extract text from PDF file\n",
    "def extract_text_from_pdf(pdf_path):\n",
    "    \"\"\"\n",
    "    Extracts text page-by-page from a PDF file using pdfplumber.\n",
    "    Returns a list of strings, each representing the text of a page.\n",
    "    \"\"\"\n",
    "    pages_text = []\n",
    "    with pdfplumber.open(pdf_path) as pdf_file:\n",
    "        for page in pdf_file.pages:\n",
    "            text = page.extract_text()\n",
    "            if text:\n",
    "                pages_text.append(text)\n",
    "    return pages_text"
   ]
  },
  {
   "cell_type": "code",
   "execution_count": 7,
   "metadata": {},
   "outputs": [
    {
     "name": "stdout",
     "output_type": "stream",
     "text": [
      "['JASON/SEPULVEDA SALAZAR\\nPAN/6/SAN FRANCISCO\\nSAN FRANCISCO SEPTIEMBRE 2021\\nPH TEE ONE, 19A. REPUBLICA DE\\nLA INDIA CON AV BELISARIO PORR\\nRESUMEN DE ESTADO DE CUENTA DE TARJETA DE CRÉDITO\\nInformación de la Cuenta Información de Pago\\nN° Cuenta 4029-****-****-5075 Saldo $825.56\\nProducto VISA DORADA CONNECTMILES DORADA Pago Mínimo $20.00\\nLímite $2,800.00 Pago de Contado $825.00\\nDisponible $1,974.44 Fecha Límite de Pago de Contado 20/SEP/2021\\nFecha de Corte 03/09/2021 Fecha Límite de Pago 24/SEP/2021\\nFecha de Corte Anterior 03/08/2021\\nPrograma de Puntos PUNTOS\\nCONNECTMILES\\nPuntos Disponibles 808\\nAtención al cliente: 210-4652 1 de 3', 'JASON/SEPULVEDA SALAZAR\\nPAN/6/SAN FRANCISCO\\nSAN FRANCISCO\\nPH TEE ONE, 19A. REPUBLICA DE\\nLA INDIA CON AV BELISARIO PORR\\nDETALLE DE CUENTA\\nFecha N° de Referencia Descripción Monto\\nSaldo Anterior $2,493.62\\n4029-****-****-5075\\nJASON/SEPULVEDA SALAZAR\\nAGO/04 08041440094965214 SU PAGO RECIBIDO GRACIAS $2,493.62-\\nAGO/06 080668601583 001 PAPA JOHNS CALLE 50 $25.28\\nAGO/07 080768622675 132 REY CALLE 50 $128.06\\nAGO/11 081379000605 102 AL VECCHIO FORNO BELLA VISTA $26.90\\nAGO/14 081579000605 808 REST Y PIZZERIA LA LOC JUAN DIAZ $51.95\\nAGO/15 081979000605 372 PEDIDOSYA BELLA VISTA $7.49\\nAGO/16 081668622696 025 FARMACIA ARROCHA CALLE 50 $55.91\\nAGO/20 082279000605 916 L Azotea Panama Panama $94.77\\nAGO/21 082268687499 309 PRICESMART -I- $292.30\\nAGO/27 082879000605 046 DELTA SAN FRANCISCO-CL PANAMA $43.00\\nAGO/28 082868665381 011 PF CHANGS PANAMA $66.34\\nAGO/28 082979000605 338 PASTELERIA LA SUIZA RESTAPANAMA $5.50\\nAGO/29 083079000605 164 ATHANASIOU VIA PORRAS BELLA VISTA $4.29\\nAGO/31 083168697021 025 HAMBURGUESAS VAQUERAS SUC 1 $12.50\\nAtención al cliente: 210-4652 2 de 3', 'JASON/SEPULVEDA SALAZAR\\nPAN/6/SAN FRANCISCO\\nSAN FRANCISCO SEPTIEMBRE 2021\\nPH TEE ONE, 19A. REPUBLICA DE\\nLA INDIA CON AV BELISARIO PORR\\nINFORMACIÓN DE CUENTA INFORMACIÓN DE PAGO\\nN° Cuenta Fecha de Saldo Pago Mínimo Pago de Fecha Límite de Fecha Límite\\nCorte Contado Pago de Contado de Pago\\n4029-****-****-5075 03/09/2021 $825.56 $20.00 $825.00 20/SEP/2021 24/SEP/2021\\nDETALLE DE CUENTA\\nFecha N° de Referencia Descripción Monto\\nSEP/03 090322125543 408 PLAN SALDOS DEU 4029120122235075 $6.54\\nSEP/03 090322125552 259 PROTECCION ROBO 4029120122235075 $4.73\\nSEP/04 090414400999 994 SOCIO COPA: 260561934\\nSaldo 825.56\\nINFORMACIÓN RELEVANTE\\nTasa mensual de cargos por servicio 1.83%\\nInterés anterior $0.00\\nTasa de interés anterior 1.83%\\nN° estado de cuenta 202109\\nTotal ITBMS $0.00\\nRUC: 47101-2-306017 DV.99\\nNOTIFICACIONES\\nPor este medio notificamos que, por modificaciones y actualizaciones en nuestro sistema, los montos de las anualidades y otros cargos\\ndescritos en los documentos recibidos con la entrega de su Tarjeta de Crédito deben ser confirmados en el tarifario publicado en:\\nwww.baccredomatic.com Estimado cliente: Usted podrá objetar el estado de cuenta dentro de los 7 días hábiles posterior a la fecha de\\ncorte, de no recibir reclamo, se entenderá que el mismo ha sido verificado y aceptado. Sus referencias de crédito de la tarjeta que\\nmantiene con nosotros, serán actualizadas los 16 de cada mes en la APC. Para su conveniencia, usted podrá encontrar las tarifas\\nactualizadas de nuestros productos de tarjeta de crédito en nuestra página web en la sección Servicios y Tarifas y en las Sucursales\\nBAC Credomatic. Para mayor información, usted puede acceder a www.baccredomatic.com o acercarse a cualquier sucursal BAC\\nCredomatic. Si usted sólo realiza el pago mínimo, esto resultará en una extensión del plazo para la cancelación de la deuda y en un\\nmayor cobro de intereses. Recuerde revisar las actualizaciones a los reglamentos del programa de puntos BAC Credomatic y compras\\nen cuotas en nuestra página web, en las secciones correspondientes.\\nAtención al cliente: 210-4652 3 de 3']\n",
      "<class 'list'>\n",
      "3\n"
     ]
    }
   ],
   "source": [
    "# test function\n",
    "\n",
    "pages_text = extract_text_from_pdf(\"../data/raw/credit-card/202109.pdf\")\n",
    "print(pages_text)\n",
    "print(type(pages_text))\n",
    "print(len(pages_text))\n"
   ]
  },
  {
   "cell_type": "code",
   "execution_count": 9,
   "metadata": {},
   "outputs": [],
   "source": [
    "def call_openai_api_for_card_data_extraction(text):\n",
    "    \"\"\"\n",
    "    Sends 'text' to the OpenAI model with instructions to extract\n",
    "    banking transactions from credit card statement in a JSON format.\n",
    "\n",
    "    Returns a list of dictionaries with the following keys:\n",
    "        - date\n",
    "        - reference\n",
    "        - description\n",
    "        - amount (float)\n",
    "    \"\"\"\n",
    "    # Define the system and user prompts\n",
    "    system_prompt = (\n",
    "        \"You are an assistant that extracts banking transactions from credit card statement from text. \"\n",
    "        \"Each credit card transaction typically appears in the format:\\n\\n\"\n",
    "        \"DATE REFERENCE DESCRIPTION AMOUNT\\n\\n\"\n",
    "        \"For example:\\n\"\n",
    "        \"AGO/04 08041440094965214 PEDIDOSYA $2,493.62-\\n\\n\"\n",
    "        \"Instructions:\\n\"\n",
    "        \"1. Identify all lines that represent transactions.\\n\"\n",
    "        \"2. Return an array of JSON objects with these fields:\\n\"\n",
    "        \"   - date\\n\"\n",
    "        \"   - reference\\n\"\n",
    "        \"   - description\\n\"\n",
    "        \"   - amount (float)\\n\"\n",
    "        \"   (If the amount ends with '-', make it negative.)\\n\"\n",
    "        \"3. Return only the JSON, with no extra text.\\n\"\n",
    "    )\n",
    "\n",
    "    user_prompt = f\"PDF text:\\n\\n{text}\\n\\nExtract the transactions in JSON.\"\n",
    "\n",
    "    try:\n",
    "        # Call the OpenAI API\n",
    "        completion = client.chat.completions.create(\n",
    "            model=\"gpt-4o-mini\",\n",
    "            messages=[\n",
    "                {\"role\": \"system\", \"content\": system_prompt},\n",
    "                {\"role\": \"user\", \"content\": user_prompt},\n",
    "            ],\n",
    "            temperature=0.0,\n",
    "        )\n",
    "\n",
    "        # Extract the data from the API response\n",
    "        content = completion.choices[0].message.content\n",
    "        transactions = json.loads(content)\n",
    "\n",
    "        # return a list\n",
    "        if isinstance(transactions, dict):\n",
    "            transactions = [transactions]\n",
    "        return transactions\n",
    "    \n",
    "    except Exception as e:\n",
    "        print(\"Error when processing text with OpenAI:\", e)\n",
    "        return []"
   ]
  },
  {
   "cell_type": "code",
   "execution_count": 10,
   "metadata": {},
   "outputs": [
    {
     "name": "stdout",
     "output_type": "stream",
     "text": [
      "[{'date': 'AGO/04', 'reference': '08041440094965214', 'description': 'SU PAGO RECIBIDO GRACIAS', 'amount': -2493.62}, {'date': 'AGO/06', 'reference': '080668601583', 'description': '001 PAPA JOHNS CALLE 50', 'amount': 25.28}, {'date': 'AGO/07', 'reference': '080768622675', 'description': '132 REY CALLE 50', 'amount': 128.06}, {'date': 'AGO/11', 'reference': '081379000605', 'description': '102 AL VECCHIO FORNO BELLA VISTA', 'amount': 26.9}, {'date': 'AGO/14', 'reference': '081579000605', 'description': '808 REST Y PIZZERIA LA LOC JUAN DIAZ', 'amount': 51.95}, {'date': 'AGO/15', 'reference': '081979000605', 'description': '372 PEDIDOSYA BELLA VISTA', 'amount': 7.49}, {'date': 'AGO/16', 'reference': '081668622696', 'description': '025 FARMACIA ARROCHA CALLE 50', 'amount': 55.91}, {'date': 'AGO/20', 'reference': '082279000605', 'description': '916 L Azotea Panama Panama', 'amount': 94.77}, {'date': 'AGO/21', 'reference': '082268687499', 'description': '309 PRICESMART -I-', 'amount': 292.3}, {'date': 'AGO/27', 'reference': '082879000605', 'description': '046 DELTA SAN FRANCISCO-CL PANAMA', 'amount': 43.0}, {'date': 'AGO/28', 'reference': '082868665381', 'description': '011 PF CHANGS PANAMA', 'amount': 66.34}, {'date': 'AGO/28', 'reference': '082979000605', 'description': '338 PASTELERIA LA SUIZA RESTAPANAMA', 'amount': 5.5}, {'date': 'AGO/29', 'reference': '083079000605', 'description': '164 ATHANASIOU VIA PORRAS BELLA VISTA', 'amount': 4.29}, {'date': 'AGO/31', 'reference': '083168697021', 'description': '025 HAMBURGUESAS VAQUERAS SUC 1', 'amount': 12.5}]\n",
      "<class 'list'>\n",
      "14\n"
     ]
    }
   ],
   "source": [
    "response = call_openai_api_for_card_data_extraction(pages_text[1])\n",
    "print(response)\n",
    "print(type(response))\n",
    "print(len(response))"
   ]
  },
  {
   "cell_type": "code",
   "execution_count": 11,
   "metadata": {},
   "outputs": [],
   "source": [
    "def save_transactions_to_csv(transactions_list, csv_filename=\"extracted_transactions.csv\"):\n",
    "    \"\"\"\n",
    "    Creates the 'data/preprocessed' folder if it doesn't exist, \n",
    "    and saves the transactions to a CSV file inside that folder.\n",
    "    \"\"\"\n",
    "    preprocessed_folder = \"data/preprocessed\"\n",
    "    os.makedirs(preprocessed_folder, exist_ok=True)\n",
    "    \n",
    "    output_csv_path = os.path.join(preprocessed_folder, csv_filename)\n",
    "\n",
    "    # Define the columns to write in the CSV\n",
    "    fieldnames = [\"date\", \"reference\", \"description\", \"amount\", \"file\", \"page\"]\n",
    "\n",
    "    # Write the CSV file\n",
    "    with open(output_csv_path, mode=\"w\", newline=\"\", encoding=\"utf-8\") as csv_file:\n",
    "        writer = csv.DictWriter(csv_file, fieldnames=fieldnames)\n",
    "        writer.writeheader()\n",
    "        for transaction in transactions_list:\n",
    "            writer.writerow(transaction)\n",
    "\n",
    "    print(f\"Transactions extracted and saved in '{output_csv_path}'.\")"
   ]
  },
  {
   "cell_type": "code",
   "execution_count": 12,
   "metadata": {},
   "outputs": [],
   "source": [
    "def process_pdfs_in_folder(input_folder):\n",
    "    \"\"\"\n",
    "    Iterates over all PDF files in 'input_folder', extracts text page by page,\n",
    "    calls the OpenAI API for each page to identify transactions, and accumulates them.\n",
    "    Finally, saves the transactions to a CSV file in the 'data/preprocessed' folder.\n",
    "    \"\"\"\n",
    "    all_transactions = []\n",
    "\n",
    "    for filename in os.listdir(input_folder):\n",
    "        if filename.lower().endswith(\".pdf\"):\n",
    "            pdf_path = os.path.join(input_folder, filename)\n",
    "            print(f\"Processing: {pdf_path}\")\n",
    "\n",
    "            # 1. Extract text from each page of the PDF\n",
    "            pages_text = extract_text_from_pdf(pdf_path)\n",
    "\n",
    "            # 2. For each page, call OpenAI to identify transactions\n",
    "            for page_index, text in enumerate(pages_text, start=1):\n",
    "                extracted_transactions = call_openai_api_for_card_data_extraction(text)\n",
    "                \n",
    "                # Add metadata for file and page\n",
    "                for transaction in extracted_transactions:\n",
    "                    transaction[\"file\"] = filename\n",
    "                    transaction[\"page\"] = page_index\n",
    "                \n",
    "                all_transactions.extend(extracted_transactions)\n",
    "\n",
    "    # 3. Save all transactions to a CSV\n",
    "    save_transactions_to_csv(all_transactions, csv_filename=\"extracted_transactions.csv\")"
   ]
  },
  {
   "cell_type": "code",
   "execution_count": 13,
   "metadata": {},
   "outputs": [
    {
     "name": "stdout",
     "output_type": "stream",
     "text": [
      "Transactions extracted and saved in 'data/preprocessed/extracted_transactions.csv'.\n"
     ]
    }
   ],
   "source": [
    "input_folder_path = \"/Users/jasonssdev/Dev/Projects/bank-transactions/data/raw\"\n",
    "process_pdfs_in_folder(input_folder_path)"
   ]
  },
  {
   "cell_type": "code",
   "execution_count": null,
   "metadata": {},
   "outputs": [],
   "source": []
  }
 ],
 "metadata": {
  "kernelspec": {
   "display_name": "ml-py3.12",
   "language": "python",
   "name": "python3"
  },
  "language_info": {
   "codemirror_mode": {
    "name": "ipython",
    "version": 3
   },
   "file_extension": ".py",
   "mimetype": "text/x-python",
   "name": "python",
   "nbconvert_exporter": "python",
   "pygments_lexer": "ipython3",
   "version": "3.12.9"
  }
 },
 "nbformat": 4,
 "nbformat_minor": 2
}
